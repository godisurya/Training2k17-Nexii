{
 "cells": [
  {
   "cell_type": "code",
   "execution_count": 1,
   "metadata": {
    "collapsed": false,
    "deletable": true,
    "editable": true
   },
   "outputs": [
    {
     "name": "stdout",
     "output_type": "stream",
     "text": [
      "Enter the word which you want to find from the text provided: Hello\n",
      "Hello is not found in the text\n"
     ]
    }
   ],
   "source": [
    "#1. write a program to findout\n",
    "Text = \"Hai! hello, Welcome to my program coding assignments\"\n",
    "a = raw_input(\"Enter the word which you want to find from the text provided: \")\n",
    "if a in Text:\n",
    "    print \"%s is found in the text\"%a\n",
    "else:\n",
    "    print \"%s is not found in the text\"%a"
   ]
  },
  {
   "cell_type": "code",
   "execution_count": 2,
   "metadata": {
    "collapsed": false,
    "deletable": true,
    "editable": true
   },
   "outputs": [
    {
     "name": "stdout",
     "output_type": "stream",
     "text": [
      "Enter the word which you want to find from the text provided: my\n",
      "my is found in the text at the 23 th index\n"
     ]
    }
   ],
   "source": [
    "#1. write a program to findout\n",
    "Text = \"Hai! hello, Welcome to my program coding assignments\"\n",
    "a = raw_input(\"Enter the word which you want to find from the text provided: \")\n",
    "if a in Text:\n",
    "    b = Text.find(a)\n",
    "    print \"%s is found in the text at the %d th index\"%(a,b)\n",
    "    \n",
    "else:\n",
    "    print \"%s is not found in the text\"%a"
   ]
  },
  {
   "cell_type": "code",
   "execution_count": 3,
   "metadata": {
    "collapsed": false,
    "deletable": true,
    "editable": true
   },
   "outputs": [
    {
     "name": "stdout",
     "output_type": "stream",
     "text": [
      "Enter the word which you want to find from the text provided: my\n",
      "my is found in the text\n"
     ]
    }
   ],
   "source": [
    "#2. write a program to check given substring is there in actual string or not? (search should be case insensitive)\n",
    "Text = \"Hai! hello, Welcome to my program coding assignments\"\n",
    "a = raw_input(\"Enter the word which you want to find from the text provided: \")\n",
    "b = a.lower()\n",
    "if b in Text:\n",
    "    print \"%s is found in the text\"%(a)\n",
    "    \n",
    "else:\n",
    "    print \"%s is not found in the text\"%a"
   ]
  },
  {
   "cell_type": "code",
   "execution_count": 4,
   "metadata": {
    "collapsed": false,
    "deletable": true,
    "editable": true
   },
   "outputs": [
    {
     "name": "stdout",
     "output_type": "stream",
     "text": [
      "Enter a number: 87\n",
      "87 is odd number\n"
     ]
    }
   ],
   "source": [
    "#3. take a number from the user and check whether even or odd\n",
    "a = input(\"Enter a number: \")\n",
    "if a % 2 == 0:\n",
    "    print \"%d is even number\"%a\n",
    "else:\n",
    "    print \"%d is odd number\"%a"
   ]
  },
  {
   "cell_type": "code",
   "execution_count": 5,
   "metadata": {
    "collapsed": false,
    "deletable": true,
    "editable": true
   },
   "outputs": [
    {
     "name": "stdout",
     "output_type": "stream",
     "text": [
      "Enter the number: 5\n",
      "5 is a prime number\n"
     ]
    }
   ],
   "source": [
    "#4. take a number from the user and check whether it is prime?\n",
    "num = input(\"Enter the number: \")\n",
    "if num > 1:\n",
    "    for i in range(2,num):\n",
    "        #checking for factors\n",
    "        if (num % i) == 0:\n",
    "            print num,\"is not prime\"\n",
    "            break\n",
    "    else:\n",
    "        print num,\"is a prime number\"\n",
    "\n",
    "else:\n",
    "    print num,\"is not a prime number\""
   ]
  },
  {
   "cell_type": "code",
   "execution_count": 6,
   "metadata": {
    "collapsed": false,
    "deletable": true,
    "editable": true
   },
   "outputs": [
    {
     "name": "stdout",
     "output_type": "stream",
     "text": [
      "Enter the data: 8796\n",
      "Data contains only digits\n"
     ]
    }
   ],
   "source": [
    "#5. take a string from the user and check contains only digits or not?\n",
    "a = raw_input(\"Enter the data: \")\n",
    "if a.isdigit() == True:\n",
    "    print \"Data contains only digits\"\n",
    "else:\n",
    "    print \"Data has non-digits\""
   ]
  },
  {
   "cell_type": "code",
   "execution_count": 7,
   "metadata": {
    "collapsed": false,
    "deletable": true,
    "editable": true
   },
   "outputs": [
    {
     "name": "stdout",
     "output_type": "stream",
     "text": [
      "Enter the data: jshiuh98\n",
      "Data has some non-alphabets\n"
     ]
    }
   ],
   "source": [
    "#6. take a string from the user and check contains only  alphabets or not?\n",
    "a = raw_input(\"Enter the data: \")\n",
    "if a.isalpha() == True:\n",
    "    print \"Data contains only alphabets\"\n",
    "else:\n",
    "    print \"Data has some non-alphabets\"\n",
    "    "
   ]
  },
  {
   "cell_type": "code",
   "execution_count": 8,
   "metadata": {
    "collapsed": false,
    "deletable": true,
    "editable": true
   },
   "outputs": [
    {
     "name": "stdout",
     "output_type": "stream",
     "text": [
      "Enter the data: jhdsy87weyi#$^&*\n",
      " Has special characters\n"
     ]
    }
   ],
   "source": [
    "#7. take a string from the user and check contains only  special chars or not?\n",
    "a = raw_input(\"Enter the data: \")\n",
    "if a is not a.isdigit() or a.isalpha():\n",
    "    print \" Has special characters\""
   ]
  },
  {
   "cell_type": "code",
   "execution_count": 9,
   "metadata": {
    "collapsed": false,
    "deletable": true,
    "editable": true
   },
   "outputs": [
    {
     "name": "stdout",
     "output_type": "stream",
     "text": [
      "Enter a string:JSHGJSGDhsdj\n",
      "The given string has lower letters\n"
     ]
    }
   ],
   "source": [
    "#8. take a string from the user and check contains only  capiatl letters or not?\n",
    "a = raw_input(\"Enter a string:\")\n",
    "if a == a.upper():\n",
    "    print \"The given string has only capital letters\"\n",
    "else:\n",
    "    print \"The given string has lower letters\""
   ]
  },
  {
   "cell_type": "code",
   "execution_count": 10,
   "metadata": {
    "collapsed": false,
    "deletable": true,
    "editable": true
   },
   "outputs": [
    {
     "name": "stdout",
     "output_type": "stream",
     "text": [
      "Enter a string:hjsuihdhjdsg\n",
      "The given string has only low letters\n"
     ]
    }
   ],
   "source": [
    "#9. take a string from the user and check contains only  small letters or not?\n",
    "a = raw_input(\"Enter a string:\")\n",
    "if a == a.lower():\n",
    "    print \"The given string has only low letters\"\n",
    "else:\n",
    "    print \"The string has upper letters\""
   ]
  },
  {
   "cell_type": "code",
   "execution_count": 11,
   "metadata": {
    "collapsed": false,
    "deletable": true,
    "editable": true
   },
   "outputs": [
    {
     "name": "stdout",
     "output_type": "stream",
     "text": [
      "1.MAC\n",
      "2.Linux\n",
      "3.Windows\n",
      "4.Quit\n",
      "Select One Option: 1\n",
      "MAC\n",
      "1.MAC\n",
      "2.Linux\n",
      "3.Windows\n",
      "4.Quit\n",
      "Select One Option: 4\n",
      "quit\n"
     ]
    }
   ],
   "source": [
    "#10. Show the below menu to the user until and until user select quit and display corresponding os message\n",
    "'''\n",
    "Menu:\n",
    "1. windows\n",
    "2. Linux\n",
    "3. Mac\n",
    "4. quit\n",
    "'''\n",
    "\n",
    "while True:\n",
    "    print \"1.MAC\\n2.Linux\\n3.Windows\\n4.Quit\"\n",
    "    a = raw_input(\"Select One Option: \")\n",
    "    if a == \"1\":\n",
    "        print \"MAC\"\n",
    "    elif a == \"2\":\n",
    "        print \"Linux\"\n",
    "    elif a == \"3\":\n",
    "        print \"Windows\"\n",
    "    elif a == \"4\":\n",
    "        print \"quit\"\n",
    "        break\n",
    "    else:\n",
    "        print \"Wrong selection and select again\""
   ]
  },
  {
   "cell_type": "code",
   "execution_count": 12,
   "metadata": {
    "collapsed": false,
    "deletable": true,
    "editable": true
   },
   "outputs": [
    {
     "name": "stdout",
     "output_type": "stream",
     "text": [
      "enter a stringhjshd1231\n",
      "It contains atleast one digit\n"
     ]
    }
   ],
   "source": [
    "#11. take a string from the user and check contains atleast one digit or not?\n",
    "input = raw_input(\"enter a string\")\n",
    "count = 0\n",
    "for i in input:\n",
    "    if i.isdigit() == True:\n",
    "        count=+1\n",
    "        \n",
    "if count ==0:\n",
    "    print \"It does not contains digits\"\n",
    "else :\n",
    "    print \"It contains atleast one digit\""
   ]
  },
  {
   "cell_type": "code",
   "execution_count": 14,
   "metadata": {
    "collapsed": false,
    "deletable": true,
    "editable": true
   },
   "outputs": [
    {
     "name": "stdout",
     "output_type": "stream",
     "text": [
      "enter a stringhsgaj872y\n",
      "It contains atleast one alphabet\n"
     ]
    }
   ],
   "source": [
    "#12. take a string from the user and check contains atleast one alphabets or not?\n",
    "input = raw_input(\"enter a string\")\n",
    "count = 0\n",
    "for i in input:\n",
    "    if i.isalpha() == True:\n",
    "        count=+1\n",
    "        \n",
    "if count ==0:\n",
    "    print \"It does not contains alphabets\"\n",
    "else :\n",
    "    print \"It contains atleast one alphabet\""
   ]
  },
  {
   "cell_type": "code",
   "execution_count": 15,
   "metadata": {
    "collapsed": false,
    "deletable": true,
    "editable": true
   },
   "outputs": [
    {
     "name": "stdout",
     "output_type": "stream",
     "text": [
      "enter a stringhagdsu 870s \n",
      "It contains atleast one character\n"
     ]
    }
   ],
   "source": [
    "#13. take a string from the user and check contains atleast one chars or not?\n",
    "input = raw_input(\"enter a string\")\n",
    "count = 0\n",
    "for i in input:\n",
    "    if i.isspace() == False:\n",
    "        count=+1\n",
    "        \n",
    "if count ==0:\n",
    "    print \"It does not contain characters\"\n",
    "else :\n",
    "    print \"It contains atleast one character\""
   ]
  },
  {
   "cell_type": "code",
   "execution_count": 16,
   "metadata": {
    "collapsed": false,
    "deletable": true,
    "editable": true
   },
   "outputs": [
    {
     "name": "stdout",
     "output_type": "stream",
     "text": [
      "enter a stringGHSjdskhfd\n",
      "It contains atleast one upper case letter\n"
     ]
    }
   ],
   "source": [
    "#14. take a string from the user and check contains atleast one capital letter or not?\n",
    "input = raw_input(\"enter a string\")\n",
    "count = 0\n",
    "for i in input:\n",
    "    if i.isupper() == True:\n",
    "        count=+1\n",
    "        \n",
    "if count ==0:\n",
    "    print \"It does not contain upper case letters\"\n",
    "else :\n",
    "    print \"It contains atleast one upper case letter\""
   ]
  },
  {
   "cell_type": "code",
   "execution_count": 17,
   "metadata": {
    "collapsed": false,
    "deletable": true,
    "editable": true
   },
   "outputs": [
    {
     "name": "stdout",
     "output_type": "stream",
     "text": [
      "enter a stringjhdshgjjhgushjgduhjkhJHI\n",
      "It contains atleast one lower case letter\n"
     ]
    }
   ],
   "source": [
    "#15. take a string from the user and check contains atleast one small letter or not?\n",
    "input = raw_input(\"enter a string\")\n",
    "count = 0\n",
    "for i in input:\n",
    "    if i.islower() == True:\n",
    "        count=+1\n",
    "        \n",
    "if count ==0:\n",
    "    print \"It does not contain lower case letters\"\n",
    "else :\n",
    "    print \"It contains atleast one lower case letter\""
   ]
  },
  {
   "cell_type": "code",
   "execution_count": 26,
   "metadata": {
    "collapsed": false,
    "deletable": true,
    "editable": true
   },
   "outputs": [
    {
     "name": "stdout",
     "output_type": "stream",
     "text": [
      "Total number of people: 800\n",
      "Total number of busses: 30\n",
      "Number of seats for bus: 20\n",
      "There are no sufficient busses and the seats required are 200 and the buses required are 10\n"
     ]
    }
   ],
   "source": [
    "#16. Take the input from the user for(Total number of people, toatl number of busses, Number of seats for bus). Based on the input\n",
    "#Deside whether there is sufficient busses or not and give solution for how many extra busses required.\n",
    "a = raw_input(\"Total number of people: \")\n",
    "b = raw_input(\"Total number of busses: \")\n",
    "c = raw_input(\"Number of seats for bus: \")\n",
    "a = int(a)\n",
    "b = int(b)\n",
    "c = int(c)\n",
    "d = (b*c)\n",
    "e = (d-a)\n",
    "f = (a-d)\n",
    "g = (f/c)\n",
    "\n",
    "if a == d or a <= d:\n",
    "    print \"There are sufficient busses and the remaining seats are %d\" %(e)\n",
    "\n",
    "else:\n",
    "    print \"There are no sufficient busses and the seats required are %d and the buses required are %d\" %(f,g)\n"
   ]
  },
  {
   "cell_type": "code",
   "execution_count": 21,
   "metadata": {
    "collapsed": false,
    "deletable": true,
    "editable": true
   },
   "outputs": [
    {
     "name": "stdout",
     "output_type": "stream",
     "text": [
      "[1, 3, 5, 7, 9, 11, 13, 15, 17, 19, 21, 23, 25, 27, 29, 31, 33, 35, 37, 39, 41, 43, 45, 47, 49, 51, 53, 55, 57, 59, 61, 63, 65, 67, 69, 71, 73, 75, 77, 79, 81, 83, 85, 87, 89, 91, 93, 95, 97, 99]\n"
     ]
    }
   ],
   "source": [
    "#17. Print the first 100 odd numbers\n",
    "l = []\n",
    "for i in range(100):\n",
    "    if i % 2 != 0:\n",
    "        l.append(i)\n",
    "\n",
    "print l"
   ]
  },
  {
   "cell_type": "code",
   "execution_count": 24,
   "metadata": {
    "collapsed": false,
    "deletable": true,
    "editable": true
   },
   "outputs": [
    {
     "name": "stdout",
     "output_type": "stream",
     "text": [
      "Enter a number to find the factors: 24\n",
      "[2, 4, 6, 8, 10, 12, 14, 16, 18, 20, 22, 24] are the factors of 24 \n"
     ]
    }
   ],
   "source": [
    "#18. Determine the factors of a number entered  by the user\n",
    "a = raw_input(\"Enter a number to find the factors: \")\n",
    "a = int(a)\n",
    "l = []\n",
    "for i in range(1,a+1):\n",
    "    if i % 2 == 0:\n",
    "        l.append(i)\n",
    "\n",
    "print l,\"are the factors of %d \"%a"
   ]
  },
  {
   "cell_type": "code",
   "execution_count": 27,
   "metadata": {
    "collapsed": false,
    "deletable": true,
    "editable": true
   },
   "outputs": [
    {
     "name": "stdout",
     "output_type": "stream",
     "text": [
      "Enter your guess in between 1 to 10: 2\n",
      "Sorry! Number is Higher than the guess\n",
      "Enter your guess in between 1 to 10: 3\n",
      "Sorry! Number is Higher than the guess\n",
      "Enter your guess in between 1 to 10: 8\n",
      "Sorry! Number is Smaller than the guess\n",
      "Enter your guess in between 1 to 10: 5\n",
      "Wow! Superb, you guessed right\n",
      "Over\n"
     ]
    }
   ],
   "source": [
    "#19. Play a number guessing game (User enters a guess, you print YES or Higher or Lower)\n",
    "for i in range(5):\n",
    "    a = raw_input(\"Enter your guess in between 1 to 10: \")\n",
    "    a = int(a)\n",
    "    b = 5\n",
    "    if a == b:\n",
    "        print \"Wow! Superb, you guessed right\"\n",
    "        break\n",
    "    elif a > b:\n",
    "        print \"Sorry! Number is Smaller than the guess\"\n",
    "        #print \"Guess again\"\n",
    "    else:\n",
    "        print \"Sorry! Number is Higher than the guess\"\n",
    "        #print \"Guess again\"\n",
    "    \n",
    "\n",
    "print \"Over\""
   ]
  },
  {
   "cell_type": "code",
   "execution_count": 28,
   "metadata": {
    "collapsed": false,
    "deletable": true,
    "editable": true
   },
   "outputs": [
    {
     "name": "stdout",
     "output_type": "stream",
     "text": [
      " Enter num1: 78\n",
      "Enter num2: 24\n",
      "78 is not divisible by 24\n"
     ]
    }
   ],
   "source": [
    "#20. Take two numbers from the user a,b check whether a is divisible by b or not?\n",
    "a = raw_input(\" Enter num1: \")\n",
    "b = raw_input(\"Enter num2: \")\n",
    "a = int(a)\n",
    "b = int(b)\n",
    "if a % b == 0:\n",
    "    print \"%d is divisible by %d\"%(a,b)\n",
    "else:\n",
    "    print \"%d is not divisible by %d\"%(a,b)"
   ]
  },
  {
   "cell_type": "code",
   "execution_count": 29,
   "metadata": {
    "collapsed": false,
    "deletable": true,
    "editable": true
   },
   "outputs": [
    {
     "name": "stdout",
     "output_type": "stream",
     "text": [
      "enter age76\n",
      "old\n"
     ]
    }
   ],
   "source": [
    "#21. Given an age, figure out whether someone's a baby, toddler, child, teenager, adult or old codger.\n",
    "age = int(raw_input(\"enter age\"))\n",
    "if age <=1:\n",
    "    print \"Its Baby\"\n",
    "elif age > 1 and age <=10:\n",
    "    print \"Toddler\"\n",
    "elif age >=11 and age <=19:\n",
    "    print \"Teenager\"\n",
    "elif age >=20 and age <=40:\n",
    "    print \"Adult\"\n",
    "else:\n",
    "    print \"old\""
   ]
  },
  {
   "cell_type": "code",
   "execution_count": 31,
   "metadata": {
    "collapsed": false,
    "deletable": true,
    "editable": true
   },
   "outputs": [
    {
     "name": "stdout",
     "output_type": "stream",
     "text": [
      "Enter a number: 3\n",
      "The sum of all the multiples of 3 is 166833\n"
     ]
    }
   ],
   "source": [
    "#22. Find the sum of all the multiples of 3 or 5 below 1000\n",
    "a = int(raw_input(\"Enter a number: \"))\n",
    "l = [ ]\n",
    "for i in range(1,1000):\n",
    "    if i % a == 0:\n",
    "        l.append(i)\n",
    "        \n",
    "b = sum(l)\n",
    "print \"The sum of all the multiples of %d is %d\"%(a,b)\n",
    "        "
   ]
  },
  {
   "cell_type": "code",
   "execution_count": 32,
   "metadata": {
    "collapsed": false,
    "deletable": true,
    "editable": true
   },
   "outputs": [
    {
     "name": "stdout",
     "output_type": "stream",
     "text": [
      "enter num1: 45\n",
      "enter num2: 54\n",
      "54 is big\n"
     ]
    }
   ],
   "source": [
    "#23. Write a program to findout big of two numbers\n",
    "a = int(raw_input(\"enter num1: \"))\n",
    "b = int(raw_input(\"enter num2: \"))\n",
    "if a > b:\n",
    "    print \"%d is big\"%(a)\n",
    "else:\n",
    "    print \"%d is big\"%(b)"
   ]
  },
  {
   "cell_type": "code",
   "execution_count": 38,
   "metadata": {
    "collapsed": false,
    "deletable": true,
    "editable": true
   },
   "outputs": [
    {
     "name": "stdout",
     "output_type": "stream",
     "text": [
      "Enter a list of numbers:1,23,4546,8799\n",
      "8799\n"
     ]
    }
   ],
   "source": [
    "#24. Write a program to findout biggest number in the given numbers.\n",
    "a = raw_input(\"Enter a list of numbers:\")\n",
    "a = a.split(',')\n",
    "\n",
    "#a = [a]\n",
    "b = a[0]\n",
    "for i in a:\n",
    "    if i > b:\n",
    "        b = i\n",
    "        \n",
    "print b\n",
    "        "
   ]
  },
  {
   "cell_type": "code",
   "execution_count": 40,
   "metadata": {
    "collapsed": false,
    "deletable": true,
    "editable": true
   },
   "outputs": [
    {
     "name": "stdout",
     "output_type": "stream",
     "text": [
      "eneter a string: kajhdiuahdyihdf\n",
      "eneter sub string: h\n",
      "enter the ocurrence at which you want to find: 3\n"
     ]
    },
    {
     "data": {
      "text/plain": [
       "12"
      ]
     },
     "execution_count": 40,
     "metadata": {},
     "output_type": "execute_result"
    }
   ],
   "source": [
    "#25. findout third occurance of given substring\n",
    "# second or third occurance of given substring\n",
    "a = raw_input(\"eneter a string: \")\n",
    "b = raw_input(\"eneter sub string: \")\n",
    "c = int(raw_input(\"enter the ocurrence at which you want to find: \"))\n",
    "d = c - 1\n",
    "a.replace(b,'X',d).find(b)\n"
   ]
  },
  {
   "cell_type": "code",
   "execution_count": 41,
   "metadata": {
    "collapsed": false,
    "deletable": true,
    "editable": true
   },
   "outputs": [
    {
     "name": "stdout",
     "output_type": "stream",
     "text": [
      "Enter the String: jdshiklahdja\n",
      "Enter the substring: j\n",
      "10\n"
     ]
    }
   ],
   "source": [
    "#26. findout nth occurance of given substring\n",
    "a = raw_input(\"Enter the String: \")\n",
    "b = raw_input(\"Enter the substring: \")\n",
    "print a.rfind(b)\n",
    "# a.rindex(b)"
   ]
  },
  {
   "cell_type": "code",
   "execution_count": 42,
   "metadata": {
    "collapsed": false,
    "deletable": true,
    "editable": true
   },
   "outputs": [
    {
     "name": "stdout",
     "output_type": "stream",
     "text": [
      "Minimum number is 0\n",
      "Maximum number is 9\n",
      "sum of numbers is 25\n",
      "average of number is 4\n"
     ]
    }
   ],
   "source": [
    "#27. Taake some single digit numbers from the user and findout min, maximum, sum, average\n",
    "num = [1,2,5,8,9,0]\n",
    "print \"Minimum number is\", min(num)\n",
    "print \"Maximum number is\", max(num)\n",
    "print \"sum of numbers is\", sum(num)\n",
    "print \"average of number is\", sum(num)/len(num)"
   ]
  },
  {
   "cell_type": "code",
   "execution_count": 44,
   "metadata": {
    "collapsed": false,
    "deletable": true,
    "editable": true
   },
   "outputs": [
    {
     "name": "stdout",
     "output_type": "stream",
     "text": [
      "0000010\n",
      "0000100\n",
      "0001000\n"
     ]
    }
   ],
   "source": [
    "#28\"\"\"WAP> 10 -> 000010 100 ->  000100 1000 ->  001000 2345678  ->  2345678\"\"\"\n",
    "\n",
    "#a = raw_input(\"enter the value to be rounded off: \")\n",
    "a1 = '10'\n",
    "a2 = '100'\n",
    "a3 = '1000'\n",
    "a1 = a1.zfill(7)\n",
    "a2 = a2.zfill(7)\n",
    "a3 = a3.zfill(7)\n",
    "print a1\n",
    "print a2\n",
    "print a3"
   ]
  },
  {
   "cell_type": "code",
   "execution_count": 45,
   "metadata": {
    "collapsed": false,
    "deletable": true,
    "editable": true
   },
   "outputs": [
    {
     "name": "stdout",
     "output_type": "stream",
     "text": [
      "emp1\n",
      "emp2\n",
      "emp3\n",
      "emp4\n"
     ]
    }
   ],
   "source": [
    "#29. names  =\"emp1,emp2,emp3,emp4\" iterate through the employee names.\n",
    "\n",
    "names  =\"emp1,emp2,emp3,emp4\"\n",
    "for i in names.split(','):\n",
    "    print i"
   ]
  },
  {
   "cell_type": "code",
   "execution_count": 47,
   "metadata": {
    "collapsed": false,
    "deletable": true,
    "editable": true
   },
   "outputs": [
    {
     "name": "stdout",
     "output_type": "stream",
     "text": [
      "enetr your data: Hello surya Hi surya Hello surya Hi surya Hello surya Hi surya\n",
      "eneter the source string: Hi\n",
      "enetr the destination string: Bye\n",
      "Hello surya Bye surya Hello surya Bye surya Hello surya Hi surya\n"
     ]
    }
   ],
   "source": [
    "#30. Take actuual string, soucrce string, destination string. replce first nth occurances of soucestring with destination string of actual string\n",
    "act = raw_input(\"enetr your data: \")\n",
    "act = act.split()\n",
    "new=[]\n",
    "src = raw_input(\"eneter the source string: \")\n",
    "dest = raw_input(\"enetr the destination string: \")\n",
    "occurences = 2\n",
    "for i in act:\n",
    "    if new.count(dest)<occurences and i == src :\n",
    "        #print new.count(i)\n",
    "        i=dest\n",
    "    new.append(i)\n",
    "    #print new\n",
    "new1 = \" \".join(new)\n",
    "print new1"
   ]
  },
  {
   "cell_type": "code",
   "execution_count": null,
   "metadata": {
    "collapsed": false,
    "deletable": true,
    "editable": true
   },
   "outputs": [],
   "source": [
    "#31. Taake numbers from the user and findout min, maximum, sum, average\n",
    "list = raw_input(\"enter a series of numbers: \")\n",
    "list = list.split(',')\n",
    "\n",
    "print \"Minimum number is\", min(list)\n",
    "print \"Maximum number is\", max(list)\n",
    "print \"sum of numbers is\", sum(list)\n",
    "print \"average of number is\", sum(list)/len(list)"
   ]
  },
  {
   "cell_type": "code",
   "execution_count": 50,
   "metadata": {
    "collapsed": false,
    "deletable": true,
    "editable": true
   },
   "outputs": [
    {
     "data": {
      "text/plain": [
       "[10, 20, 30, [40, 50, 60], 70, [80, 90, 20]]"
      ]
     },
     "execution_count": 50,
     "metadata": {},
     "output_type": "execute_result"
    },
    {
     "name": "stdout",
     "output_type": "stream",
     "text": [
      "\n"
     ]
    }
   ],
   "source": [
    "#32. l=[10,20,30,[40,50,60],70,[80,90,20]]. Convert this list as sigle dimentiona list\n",
    "\n",
    "l = [10,20,30,[40,50,60],70,[80,90,20]]\n",
    "l1 = []\n",
    "\n",
    "def new_list(l):\n",
    "    for i in l:\n",
    "        if type(i) == list:\n",
    "            new_list(i)\n",
    "        else:\n",
    "            l1.append(i)\n",
    "            \n",
    "new_list([10,20,30,[40,50,60],70,[80,90,20]])\n",
    "l1"
   ]
  },
  {
   "cell_type": "code",
   "execution_count": 51,
   "metadata": {
    "collapsed": false,
    "deletable": true,
    "editable": true
   },
   "outputs": [
    {
     "name": "stdout",
     "output_type": "stream",
     "text": [
      "Enter the word:google\n",
      "{'e': 1, 'o': 2, 'g': 2, 'l': 1}\n"
     ]
    }
   ],
   "source": [
    "#33. input: \"google\" print count of each character\n",
    "a = raw_input(\"Enter the word:\")\n",
    "d = {}\n",
    "for i in a:\n",
    "    if i in d.keys():\n",
    "        d[i] += 1\n",
    "    else:\n",
    "        d[i]=1\n",
    "print d"
   ]
  },
  {
   "cell_type": "code",
   "execution_count": null,
   "metadata": {
    "collapsed": false,
    "deletable": true,
    "editable": true
   },
   "outputs": [],
   "source": [
    "#34. Convert n dimentional list to single dimentiona list.\n",
    " \n",
    "#l = raw_input(\"Enter a n dimensional list:\")\n",
    "l1 = []\n",
    "\n",
    "def new_list(l):\n",
    "    l =list(l)\n",
    "    for i in l:\n",
    "        if type(i) == list:\n",
    "            new_list(i)\n",
    "        else:\n",
    "            l1.append(i)\n",
    "            \n",
    "new_list([10,23,[23,345,46],[2134,34,43456,67,787],[132,2334,45,56,76]])\n",
    "l1"
   ]
  },
  {
   "cell_type": "code",
   "execution_count": 54,
   "metadata": {
    "collapsed": false,
    "deletable": true,
    "editable": true
   },
   "outputs": [
    {
     "name": "stdout",
     "output_type": "stream",
     "text": [
      "<type 'str'>\n",
      "[1, 2, 3]\n"
     ]
    }
   ],
   "source": [
    "#35. l=[1,2,3] just make it as a string.\n",
    "\n",
    "l = [1,2,3]\n",
    "l1 = str(l)\n",
    "print type(l1)\n",
    "print l1"
   ]
  },
  {
   "cell_type": "code",
   "execution_count": null,
   "metadata": {
    "collapsed": false,
    "deletable": true,
    "editable": true
   },
   "outputs": [],
   "source": [
    "#36. l=[1,2,3,[4,5,6],7,[8,9,10]] for single dimentional list\n",
    "\n",
    "l1 = [ ]\n",
    "\n",
    "def new_list(l):\n",
    "    l =list(l)\n",
    "    for i in l:\n",
    "        if type(i) == list:\n",
    "            new_list(i)\n",
    "        else:\n",
    "            l1.append(i)\n",
    "            \n",
    "new_list([1,2,3,[4,5,6],7,[8,9,10]])\n",
    "l1\n"
   ]
  },
  {
   "cell_type": "code",
   "execution_count": 57,
   "metadata": {
    "collapsed": false,
    "deletable": true,
    "editable": true
   },
   "outputs": [
    {
     "name": "stdout",
     "output_type": "stream",
     "text": [
      "['a', 'b', 'd', 'c']\n",
      "['A', 'B', 'D', 'C']\n"
     ]
    }
   ],
   "source": [
    "#37. l=['a','A','b','B','d','D','c','C'] WAP to find out case insensitive count and case insensitive search for an element.\n",
    "\n",
    "l=['a','A','b','B','d','D','c','C']\n",
    "l1 = [ ]\n",
    "l2 = [ ]\n",
    "for i in l:\n",
    "    if i == i.lower():\n",
    "        l1.append(i)\n",
    "    else:\n",
    "        l2.append(i)\n",
    "        \n",
    "print l1\n",
    "print l2\n"
   ]
  },
  {
   "cell_type": "code",
   "execution_count": 58,
   "metadata": {
    "collapsed": false,
    "deletable": true,
    "editable": true
   },
   "outputs": [
    {
     "data": {
      "text/plain": [
       "['a', 'A', 'b', 'B', 'c', 'C', 'd', 'D']"
      ]
     },
     "execution_count": 58,
     "metadata": {},
     "output_type": "execute_result"
    }
   ],
   "source": [
    "#38. l=['a','A','b','B','d','D','c','C']  sort the list properly\n",
    "l=['a','A','b','B','d','D','c','C']\n",
    "sorted(l, key=lambda v: v.lower())"
   ]
  },
  {
   "cell_type": "code",
   "execution_count": 59,
   "metadata": {
    "collapsed": false,
    "deletable": true,
    "editable": true
   },
   "outputs": [
    {
     "name": "stdout",
     "output_type": "stream",
     "text": [
      "yyyyyyyyyyyyyyyyyyyy\n"
     ]
    }
   ],
   "source": [
    "#39. find the start position of the largest block of repeated characters in a given string\n",
    "str = \"h ii h snsnd yyy aaaabaaa bbbbaaaaaaaa yyyyyyyyyyyyyyyyyyyy\"\n",
    "new=[]\n",
    "char=\"y\"\n",
    "for i in str.split(' '):\n",
    "    if len(new)>2 and i.count(char)>new.count(char):\n",
    "        new[0]=i\n",
    "    new.append(i)\n",
    "print new[0]"
   ]
  },
  {
   "cell_type": "code",
   "execution_count": 60,
   "metadata": {
    "collapsed": false,
    "deletable": true,
    "editable": true
   },
   "outputs": [
    {
     "name": "stdout",
     "output_type": "stream",
     "text": [
      "[1, 2, 3, 4, 5, 6, 7]\n",
      "[1, 2, 3]\n"
     ]
    }
   ],
   "source": [
    "#40. WAP to find union and intersection of lists.\n",
    "l1=[1,2,3,4,5]\n",
    "l2=[1,2,3,6,7]\n",
    "union=[]\n",
    "for i in l1:\n",
    "    if i not in union:\n",
    "        union.append(i)\n",
    "for j in l2:\n",
    "    if j not in union:\n",
    "        union.append(j)\n",
    "print union\n",
    "\n",
    "l1=[1,2,3,4,5]\n",
    "l2=[1,2,3,6,7]\n",
    "intersect=[]\n",
    "for i in l1:\n",
    "    if i in l2:\n",
    "        intersect.append(i)\n",
    "print intersect"
   ]
  },
  {
   "cell_type": "code",
   "execution_count": 61,
   "metadata": {
    "collapsed": false,
    "deletable": true,
    "editable": true
   },
   "outputs": [
    {
     "name": "stdout",
     "output_type": "stream",
     "text": [
      "[1, 2, 3, 4, 3, 2, 1]\n"
     ]
    }
   ],
   "source": [
    "#41. input: fun(5) output: [1,2,3,4,3,2,1]\n",
    "def fun(a):\n",
    "    b=[]\n",
    "    for i in range(1,a):\n",
    "        b.append(i)\n",
    "        if i == a-1:\n",
    "            for i in range(i-1,0,-1):\n",
    "                b.append(i)\n",
    "    return b\n",
    "print fun(5)"
   ]
  },
  {
   "cell_type": "code",
   "execution_count": 62,
   "metadata": {
    "collapsed": false,
    "deletable": true,
    "editable": true
   },
   "outputs": [
    {
     "name": "stdout",
     "output_type": "stream",
     "text": [
      "[1, 2, 3, 4]\n"
     ]
    }
   ],
   "source": [
    "#43. Remove duplicates from the list: a=[1,2,3,2,3,4,1,,3,4]\n",
    "a=[1,2,3,3,4,1,3,4]\n",
    "b=[]\n",
    "for i in a:\n",
    "    if i not in b:\n",
    "        b.append(i)\n",
    "print b"
   ]
  },
  {
   "cell_type": "code",
   "execution_count": 63,
   "metadata": {
    "collapsed": false,
    "deletable": true,
    "editable": true
   },
   "outputs": [
    {
     "name": "stdout",
     "output_type": "stream",
     "text": [
      "[1, 2, 3]\n"
     ]
    },
    {
     "data": {
      "text/plain": [
       "6"
      ]
     },
     "execution_count": 63,
     "metadata": {},
     "output_type": "execute_result"
    }
   ],
   "source": [
    "#44. l=['1','2','3'] get the sum of the list\n",
    "\n",
    "l = ['1','2','3']\n",
    "l1 = []\n",
    "for i in l:\n",
    "    i = int(i)\n",
    "    l1.append(i)\n",
    "    \n",
    "print l1\n",
    "sum(l1)"
   ]
  },
  {
   "cell_type": "code",
   "execution_count": 65,
   "metadata": {
    "collapsed": false,
    "deletable": true,
    "editable": true
   },
   "outputs": [
    {
     "data": {
      "text/plain": [
       "[6, 8, 10, 12]"
      ]
     },
     "execution_count": 65,
     "metadata": {},
     "output_type": "execute_result"
    }
   ],
   "source": [
    "#45. l1=[1,2,3,4] l2=[5,6,7,8] sum of two lists\n",
    "l1 = [1,2,3,4]\n",
    "l2 = [5,6,7,8]\n",
    "map(lambda x,y:x+y, l1,l2)"
   ]
  },
  {
   "cell_type": "code",
   "execution_count": 66,
   "metadata": {
    "collapsed": false,
    "deletable": true,
    "editable": true
   },
   "outputs": [
    {
     "name": "stdout",
     "output_type": "stream",
     "text": [
      "10\n",
      "7\n"
     ]
    }
   ],
   "source": [
    "#46. Find third max value of element in a list with soring and without sorting a list.\n",
    "l=[1,10,2,9,3,8,4,7,5,6,0,18,19]\n",
    "#using sort\n",
    "l.sort()\n",
    "max_value = 3\n",
    "for i in range(3):\n",
    "    a=l.pop()\n",
    "print a\n",
    "#without sort\n",
    "for i in range(3):\n",
    "    a= max(l)\n",
    "    l.remove(a)\n",
    "print a\n",
    "#for sorting a string\n",
    "a=[1,9,2,8,3,7,4,6,5,0]\n",
    "for i in range(len(a)):\n",
    "        for j in range(len(a) - 1):\n",
    "            if a[j] > a[j+1]:\n",
    "                a[j+1], a[j] = a[j], a[j+1]"
   ]
  },
  {
   "cell_type": "code",
   "execution_count": 67,
   "metadata": {
    "collapsed": false,
    "deletable": true,
    "editable": true
   },
   "outputs": [
    {
     "name": "stdout",
     "output_type": "stream",
     "text": [
      "odd\n",
      "even\n",
      "odd\n",
      "even\n",
      "odd\n",
      "even\n",
      "even\n",
      "even\n"
     ]
    }
   ],
   "source": [
    "#49. input = 1,2,3,4,5,6,8,10 output = odd,even,odd,even,odd,even,even,even\n",
    "\n",
    "input = 1,2,3,4,5,6,8,10\n",
    "\n",
    "for i in input:\n",
    "    if i % 2 == 0:\n",
    "        print \"even\"\n",
    "    else:\n",
    "        print \"odd\""
   ]
  },
  {
   "cell_type": "code",
   "execution_count": 68,
   "metadata": {
    "collapsed": false,
    "deletable": true,
    "editable": true
   },
   "outputs": [
    {
     "name": "stdout",
     "output_type": "stream",
     "text": [
      "{'e': 1, 'o': 2, 'g': 2, 'l': 1}\n"
     ]
    }
   ],
   "source": [
    "#51. input: google output: {'g':2,'o':2,'l':1,'e':1} use dictionary comprehension\n",
    "\n",
    "a = \"google\"\n",
    "d = {}\n",
    "for i in a:\n",
    "    if i in d.keys():\n",
    "        d[i] += 1\n",
    "    else:\n",
    "        d[i]=1\n",
    "print d"
   ]
  },
  {
   "cell_type": "code",
   "execution_count": 69,
   "metadata": {
    "collapsed": false,
    "deletable": true,
    "editable": true
   },
   "outputs": [
    {
     "data": {
      "text/plain": [
       "{'k1': 'v1', 'k2': 'v2'}"
      ]
     },
     "execution_count": 69,
     "metadata": {},
     "output_type": "execute_result"
    }
   ],
   "source": [
    "#52. keys=['k1','k2'], values = ['v1','v2'] form a dictionary.\n",
    "\n",
    "keys=['k1','k2']\n",
    "values = ['v1','v2']\n",
    "dict(zip(keys,values))"
   ]
  },
  {
   "cell_type": "code",
   "execution_count": 70,
   "metadata": {
    "collapsed": false,
    "deletable": true,
    "editable": true
   },
   "outputs": [
    {
     "name": "stdout",
     "output_type": "stream",
     "text": [
      "[('satish', 90), ('mohan', 80), ('purnesh', 40), ('venkat', 30)]\n"
     ]
    }
   ],
   "source": [
    "#53. Sort the list marks = [(\"mohan\", 80), (\"satish\", 90), (\"purnesh\", 40), (\"venkat\", 30)] acording to descending order of marks\n",
    "marks = [(\"mohan\", 80), (\"satish\", 90), (\"purnesh\", 40), (\"venkat\", 30)]\n",
    "for i in range(len(marks)):\n",
    "    for j in range(len(marks)-1):\n",
    "        if marks[j][1]<marks[j+1][1]:\n",
    "            marks[j+1],marks[j]=marks[j],marks[j+1]\n",
    "print marks"
   ]
  },
  {
   "cell_type": "code",
   "execution_count": 71,
   "metadata": {
    "collapsed": false,
    "deletable": true,
    "editable": true
   },
   "outputs": [
    {
     "data": {
      "text/plain": [
       "[0.0, 0.1, 0.2, 0.3, 0.4, 0.5, 0.6, 0.7, 0.8, 0.9]"
      ]
     },
     "execution_count": 71,
     "metadata": {},
     "output_type": "execute_result"
    }
   ],
   "source": [
    "#54. write a function to get dynamic list for floating numbers also based on strat and end and step parameters\n",
    "map(lambda x: x/10.0,range(0,10))\n"
   ]
  },
  {
   "cell_type": "code",
   "execution_count": 72,
   "metadata": {
    "collapsed": false,
    "deletable": true,
    "editable": true
   },
   "outputs": [
    {
     "name": "stdout",
     "output_type": "stream",
     "text": [
      "[1, 2, 4, 7, 14]\n"
     ]
    }
   ],
   "source": [
    "#55. find out all perfect numbers in given range\n",
    "#perfect number\n",
    "l=[]\n",
    "num=28\n",
    "for i in range(1,num):\n",
    "    if num%i==0:\n",
    "        l.append(i)\n",
    "print l"
   ]
  },
  {
   "cell_type": "code",
   "execution_count": 73,
   "metadata": {
    "collapsed": false,
    "deletable": true,
    "editable": true
   },
   "outputs": [
    {
     "name": "stdout",
     "output_type": "stream",
     "text": [
      "true\n"
     ]
    }
   ],
   "source": [
    "#56. WAP to do all stack operations using lists\n",
    "class Stack:\n",
    "    def __init__(self):\n",
    "        self.items = []\n",
    "\n",
    "    def push(self, item):\n",
    "         self.items.insert(0,item)\n",
    "\n",
    "    def pop(self):\n",
    "         return self.items.pop(0)\n",
    "\n",
    "    def peek(self):\n",
    "        return self.items[0]\n",
    "    def size(self):\n",
    "        return len(self.items)\n",
    "\n",
    "s = Stack()\n",
    "s.push('hello')\n",
    "s.push('true')\n",
    "print(s.pop())"
   ]
  },
  {
   "cell_type": "code",
   "execution_count": 74,
   "metadata": {
    "collapsed": false,
    "deletable": true,
    "editable": true
   },
   "outputs": [
    {
     "name": "stdout",
     "output_type": "stream",
     "text": [
      "[4]\n",
      "['dog', 4]\n",
      "[True, 'dog', 4]\n",
      "3\n"
     ]
    }
   ],
   "source": [
    "#57. WAP to do all queue operations using lists\n",
    "class Queue:\n",
    "    def __init__(self):\n",
    "        self.items = []\n",
    "\n",
    "    def enqueue(self, item):\n",
    "        self.items.insert(0,item)\n",
    "        print self.items\n",
    "\n",
    "    def dequeue(self):\n",
    "        self.items.pop()\n",
    "        print self.items\n",
    "\n",
    "    def size(self):\n",
    "        return len(self.items)\n",
    "\n",
    "q=Queue()\n",
    "q.enqueue(4)\n",
    "q.enqueue('dog')\n",
    "q.enqueue(True)\n",
    "print(q.size())"
   ]
  },
  {
   "cell_type": "code",
   "execution_count": null,
   "metadata": {
    "collapsed": true,
    "deletable": true,
    "editable": true
   },
   "outputs": [],
   "source": [
    "#58. WAP to remove n occurances of specified element from a list\n",
    "act = raw_input(\"Enter the string: \")\n",
    "sub = raw_input(\"Enter the sub string: \")\n",
    "act = act.split()\n",
    "new=[]\n",
    "occurences = int(raw_input(\"Enter the count for occurence:\"))\n",
    "for i in act:\n",
    "    if new.count(sub)>occurences-1 and i == sub :\n",
    "        i=\"\"\n",
    "    new.append(i)\n",
    "    #print new\n",
    "new1 = \" \".join(new)\n",
    "print new1"
   ]
  },
  {
   "cell_type": "code",
   "execution_count": null,
   "metadata": {
    "collapsed": true,
    "deletable": true,
    "editable": true
   },
   "outputs": [],
   "source": [
    "#59. copy 1 file content in to another file(Take the source and destination file path from the user)\n",
    "f = open(\"file.txt\",\"r\")\n",
    "f1 = open(\"file2.txt\",\"w\")\n",
    "data = f.readlines()\n",
    "for i in data:\n",
    "    f1.writelines(i)\n",
    "f1.close()\n",
    "f.close()"
   ]
  },
  {
   "cell_type": "code",
   "execution_count": 1,
   "metadata": {
    "collapsed": false,
    "deletable": true,
    "editable": true
   },
   "outputs": [
    {
     "name": "stdout",
     "output_type": "stream",
     "text": [
      "['Hi..']\n",
      "['Hello']\n",
      "['I', 'am', 'good.', 'I', 'think', 'you', 'too', 'good']\n",
      "no of lines is  3\n",
      "no of words is 10\n",
      "no of characters is 40\n"
     ]
    }
   ],
   "source": [
    "#61. number of lines, words, characters\n",
    "data =\"\"\"Hi..\n",
    "Hello\n",
    "I am good. I think you too good\"\"\"\n",
    "lines = data.split(\"\\n\")\n",
    "word_count = 0\n",
    "char_count =0\n",
    "for i in lines:\n",
    "    words = i.split(' ')\n",
    "    print words\n",
    "    word_count+=len(words)\n",
    "    w = \" \".join(words)\n",
    "    for char in w:\n",
    "        char_count+=1\n",
    "\n",
    "print \"no of lines is \",len(lines)\n",
    "print \"no of words is\",word_count\n",
    "print \"no of characters is\", char_count"
   ]
  },
  {
   "cell_type": "code",
   "execution_count": null,
   "metadata": {
    "collapsed": true
   },
   "outputs": [],
   "source": [
    "#62. convert .txt file in .json\n",
    "import json\n",
    "f = open('surya.json.txt')\n",
    "data = f.read()\n",
    "print data, type(data)\n",
    "f.close()\n",
    "f1 = json.loads(data)\n",
    "print type(f1)"
   ]
  },
  {
   "cell_type": "code",
   "execution_count": null,
   "metadata": {
    "collapsed": true,
    "deletable": true,
    "editable": true
   },
   "outputs": [],
   "source": [
    "#68. Take Source and destination file paths from command line arguments and copy the sourcontent into destination.\n",
    "#Make Sure that your program checking the below conditions.\n",
    "#1.if the source file not there. Should ask the user to enter new source file or want to quit a program\n",
    "#2.if the destination file already there in the specified path. Should warn the user want to proceed or want to enter new destination file name or want to quit\n",
    "import os.path\n",
    "while True:\n",
    "    source = raw_input(\"enter the source file name\")\n",
    "    target = raw_input(\"enter the target file name\")\n",
    "    if os.path.exists(source) == False:\n",
    "        print \"source file does not exists. Please enter a new file \"\n",
    "        continue\n",
    "    elif os.path.exists(target) == True:\n",
    "        print \"target file already exists\"\n",
    "        text = raw_input(\"enter moveon if you want to continue with the same file or give another file: \")\n",
    "        if text == \"moveon\":\n",
    "            f = open(source,\"r\")\n",
    "            f1 = open(target,\"w\")\n",
    "            data = f.read()\n",
    "            for i in data:\n",
    "                f1.write(i)\n",
    "            f1.close()\n",
    "            f.close()\n",
    "            break\n",
    "        else:\n",
    "            continue"
   ]
  },
  {
   "cell_type": "code",
   "execution_count": null,
   "metadata": {
    "collapsed": true,
    "deletable": true,
    "editable": true
   },
   "outputs": [],
   "source": [
    "#70. Write a class(DB) program to create a table, insert values, update values, delete values of the table. \n",
    "#All database operations code write in a file(db_operations.py) and call these operations in another file( app.py).\n",
    "#In app.py create instance of the DB class and call all the methods by passing some data.\n",
    "import psycopg2\n",
    "def db_connect():\n",
    "    con=psycopg2.connect(user=\"postgres\",password=\"postgres\",port=5432,database=\"Test\")\n",
    "    cur=con.cursor()\n",
    "    return con,cur\n",
    "def create_table():\n",
    "    con,cur=db_connect()\n",
    "    query=\"create table user_details (id int, name varchar(50))\"\n",
    "    cur.execute(query)\n",
    "    con.commit()\n",
    "def insert_values():\n",
    "    con,cur=db_connect()\n",
    "    query= \"insert into user_details values (1,'janaki')\"\n",
    "    query1=\"insert into user_details values(2,'soundarya')\"\n",
    "    cur.execute(query)\n",
    "    cur.execute(query1)\n",
    "    con.commit()\n",
    "def update_values():\n",
    "    con,cur=db_connect()\n",
    "    query= \"update user_details SET name = 'janaki soundarya' where id = 1\"\n",
    "    cur.execute(query)\n",
    "    con.commit()\n",
    "def delete_values():\n",
    "    con,cur = db_connect()\n",
    "    query= \"DELETE FROM user_details WHERE id = 1\"\n",
    "    cur.execute(query)\n",
    "    con.commit()\n",
    "db_connect()\n",
    "create_table()\n",
    "insert_values()\n",
    "update_values()\n",
    "delete_values()\n",
    "print \"all the operations were successfull\""
   ]
  },
  {
   "cell_type": "code",
   "execution_count": 2,
   "metadata": {
    "collapsed": false,
    "deletable": true,
    "editable": true
   },
   "outputs": [
    {
     "name": "stdout",
     "output_type": "stream",
     "text": [
      "SURYA: 150, GOALS: 150\n",
      "SURYA: 110, GOALS: 110\n",
      "SURYA: 2030, GOALS: 2030\n"
     ]
    }
   ],
   "source": [
    "#72. create a user defined datatype, and provide functionalities of addition substraction and multiplication. Create three instances(obj1,obj2,obj3) and print an output of obj1+obj2+\n",
    "class Day(object): \n",
    "    def __init__(self, surya, goals): \n",
    "        self.surya = surya\n",
    "        self.goals = goals\n",
    "    def __add__(self, other): \n",
    "        total_surya = self.surya + other.surya\n",
    "        total_goals = self.goals + other.goals \n",
    "        return Day(total_surya, total_goals)\n",
    "    def __sub__(self, other): \n",
    "        total_surya = self.surya - other.surya \n",
    "        total_goals = self.goals - other.goals \n",
    "        return Day(total_surya, total_goals) \n",
    "    def __mul__(self, other): \n",
    "        total_surya = self.surya * other.goals \n",
    "        total_goals = self.goals * other.goals \n",
    "        return Day(total_surya, total_goals) \n",
    "    def __str__(self): \n",
    "        return \"SURYA: %i, GOALS: %i\" % (self.surya, self.goals)\n",
    "     \n",
    "day1 = Day(100,100)\n",
    "day2 = Day(20,20)\n",
    "day3= Day(30,30)\n",
    "\n",
    "print day1+day2+day3\n",
    "print day1-day2+day3\n",
    "print day1*day2+day3"
   ]
  },
  {
   "cell_type": "code",
   "execution_count": 3,
   "metadata": {
    "collapsed": false
   },
   "outputs": [
    {
     "name": "stdout",
     "output_type": "stream",
     "text": [
      "{'price': 33, 'product': 30}\n",
      "{'price': -13, 'product': -10}\n",
      "{'price': 230, 'product': 200}\n"
     ]
    }
   ],
   "source": [
    "#73. addition, substraction, multiplication operations are not supported by dictionary. Write a program to provide addition, substraction, and  multiplication operations to dictionary. Write your own definition for operations\n",
    "class my_dict(dict):\n",
    "    def __init__(self,data):\n",
    "        super(my_dict,self).__init__(data)\n",
    "        \n",
    "    def __add__(d1,d2):\n",
    "        d={}\n",
    "        for i in d1.keys():\n",
    "            d.update({i:d1[i]+d2[i]})\n",
    "        return d\n",
    "    def __sub__(d1,d2):\n",
    "        d={}\n",
    "        for i in d1.keys():\n",
    "            d.update({i:d1[i]-d2[i]})\n",
    "        return d\n",
    "    def __mul__(d1,d2):\n",
    "        d={}\n",
    "        for i in d1.keys():\n",
    "            d.update({i:d1[i]*d2[i]})\n",
    "        return d\n",
    "    \n",
    "m1 = my_dict({\"price\":10,\"product\": 10})\n",
    "m2=my_dict({'price':23,\"product\":20})\n",
    "print m1+m2\n",
    "print m1-m2\n",
    "print m1*m2"
   ]
  },
  {
   "cell_type": "code",
   "execution_count": 4,
   "metadata": {
    "collapsed": false
   },
   "outputs": [
    {
     "name": "stdout",
     "output_type": "stream",
     "text": [
      "10\n",
      "20\n",
      "55709584 55709584\n",
      "ids are same for both x and z\n"
     ]
    }
   ],
   "source": [
    "#74. write a class that can create only one object. IF create one more object then it should written existing object but not new. Create three instances and print id’s of the instances. All the id’s should show same address\n",
    "class Mysingleton(object):\n",
    "    _instance=None\n",
    "    def __new__(self):\n",
    "        if not self._instance:\n",
    "            self._instance = super(Mysingleton,self).__new__(self)\n",
    "            self.y = 10\n",
    "        return self._instance\n",
    "\n",
    "x = Mysingleton()\n",
    "print x.y\n",
    "x.y = 20\n",
    "z=Mysingleton()\n",
    "print z.y\n",
    "print id(x),id(z)\n",
    "if x is z:\n",
    "    print \"ids are same for both x and z\""
   ]
  },
  {
   "cell_type": "code",
   "execution_count": 5,
   "metadata": {
    "collapsed": false
   },
   "outputs": [
    {
     "name": "stdout",
     "output_type": "stream",
     "text": [
      "executing surya(<__main__.A object at 0x035208B0>,1)\n",
      "executing class_surya(<class '__main__.A'>,1)\n",
      "executing class_surya(<class '__main__.A'>,1)\n",
      "executing static_surya(1)\n",
      "executing static_surya(hi)\n"
     ]
    }
   ],
   "source": [
    "#75. implement class method and instance method and static method in a class with an example. Create a instance and call all the methods. Write down what is class method and instance method and static method.\n",
    "class A(object):\n",
    "    def surya(self,x):\n",
    "        print \"executing surya(%s,%s)\"%(self,x)\n",
    "\n",
    "    @classmethod\n",
    "    def class_surya(cls,x):\n",
    "        print \"executing class_surya(%s,%s)\"%(cls,x)\n",
    "\n",
    "    @staticmethod\n",
    "    def static_surya(x):\n",
    "        print \"executing static_surya(%s)\"%x    \n",
    "\n",
    "a=A()\n",
    "a.surya(1)\n",
    "A.class_surya(1)\n",
    "a.class_surya(1)\n",
    "a.static_surya(1)\n",
    "A.static_surya('hi')"
   ]
  },
  {
   "cell_type": "code",
   "execution_count": 6,
   "metadata": {
    "collapsed": false
   },
   "outputs": [
    {
     "name": "stdout",
     "output_type": "stream",
     "text": [
      "[1, 2, 3, 4, 5]\n"
     ]
    }
   ],
   "source": [
    "#77. Remove duplicates elements of the list withoud using built in keywords and temporary list.\n",
    "l=[1,2,3,4,5,2,3,4,5,3,4,5,4,5,5,1,2,3,4,5,2,3,4,5,3,4,5,4,5,5]\n",
    "for i in l:\n",
    "    if l.count(i)>1:\n",
    "        for j in range(l.count(i)-1):\n",
    "            l.remove(i)\n",
    "print l"
   ]
  },
  {
   "cell_type": "code",
   "execution_count": 7,
   "metadata": {
    "collapsed": false
   },
   "outputs": [
    {
     "name": "stdout",
     "output_type": "stream",
     "text": [
      "enter the data: hi surya hello surya hi surya\n",
      "enter the substring: surya\n",
      "hihellohi\n"
     ]
    }
   ],
   "source": [
    "#79. WAP top remove substring form the given string without using replace function\n",
    "string = raw_input(\"enter the data: \")\n",
    "sub = raw_input(\"enter the substring: \")\n",
    "data = string.split(\" \")\n",
    "result = []\n",
    "for i in data:\n",
    "        #print i\n",
    "        if i == sub:\n",
    "                i = ''\n",
    "        result.append(i)\n",
    "print ''.join(result)"
   ]
  },
  {
   "cell_type": "code",
   "execution_count": 8,
   "metadata": {
    "collapsed": false
   },
   "outputs": [
    {
     "data": {
      "text/plain": [
       "{'k1': 'v1', 'k2': 'v2'}"
      ]
     },
     "execution_count": 8,
     "metadata": {},
     "output_type": "execute_result"
    }
   ],
   "source": [
    "#81. take two lists keys, values and form a dictionary\n",
    "keys=['k1','k2']\n",
    "values = ['v1','v2']\n",
    "dict(zip(keys,values))\n"
   ]
  },
  {
   "cell_type": "code",
   "execution_count": 14,
   "metadata": {
    "collapsed": false
   },
   "outputs": [
    {
     "name": "stdout",
     "output_type": "stream",
     "text": [
      "enetr the elemnet you want to remove: 2\n"
     ]
    },
    {
     "data": {
      "text/plain": [
       "[1, 3, 4, 5, 6, 7, 3, 5, 3, 23]"
      ]
     },
     "execution_count": 14,
     "metadata": {},
     "output_type": "execute_result"
    }
   ],
   "source": [
    "#80  WAP to remove perticular element from a given list for all occurancers\n",
    "l = [1,2,3,4,5,6,7,2,3,5,2,3,2,23,2,2]\n",
    "l1 = [ ]\n",
    "a = input(\"enetr the elemnet you want to remove: \")\n",
    "for i in l:\n",
    "    if i != a:\n",
    "        l1.append(i)\n",
    "        \n",
    "l1"
   ]
  },
  {
   "cell_type": "code",
   "execution_count": 11,
   "metadata": {
    "collapsed": false
   },
   "outputs": [
    {
     "name": "stdout",
     "output_type": "stream",
     "text": [
      "after deleting\n"
     ]
    },
    {
     "data": {
      "text/plain": [
       "{'EmpID': 'NEX0179'}"
      ]
     },
     "execution_count": 11,
     "metadata": {},
     "output_type": "execute_result"
    }
   ],
   "source": [
    "#82. delete more than one key value pair at a time.\n",
    "\n",
    "d = {'name':'surya','EmpID':'NEX0179','Mobile':'9966028881'}\n",
    "del d['name'],d['Mobile']\n",
    "print \"after deleting\"\n",
    "d"
   ]
  },
  {
   "cell_type": "code",
   "execution_count": 12,
   "metadata": {
    "collapsed": false
   },
   "outputs": [
    {
     "name": "stdout",
     "output_type": "stream",
     "text": [
      "[5, 4, 3, 2, 1]\n",
      "[9, 8, 7, 6, 5, 4, 3, 2, 5, 4, 3, 2, 1, 2, 5, 1]\n",
      "[4, 4, 4, 4, 4, 2, -2, 1]\n"
     ]
    }
   ],
   "source": [
    "#83. find out intersection, union, difference of two list without/with using set\n",
    "\n",
    "l1 = [9,8,7,6,5,4,3,2]\n",
    "l2 = [5,4,3,2,1,2,5,1]\n",
    "l3 = [ ]\n",
    "l4 = [ ]\n",
    "l5 = [ ]\n",
    "\n",
    "for i in l1 and l2:       \n",
    "    if i not in l3:\n",
    "        l3.append(i)\n",
    "\n",
    "l4 = l1 + l2   \n",
    "\n",
    "l5 = map(lambda x,y:x-y, l1,l2)\n",
    "\n",
    "print l3\n",
    "print l4\n",
    "print l5\n",
    "        "
   ]
  },
  {
   "cell_type": "code",
   "execution_count": null,
   "metadata": {
    "collapsed": true
   },
   "outputs": [],
   "source": []
  },
  {
   "cell_type": "code",
   "execution_count": null,
   "metadata": {
    "collapsed": true
   },
   "outputs": [],
   "source": []
  },
  {
   "cell_type": "code",
   "execution_count": null,
   "metadata": {
    "collapsed": true,
    "deletable": true,
    "editable": true
   },
   "outputs": [],
   "source": []
  },
  {
   "cell_type": "code",
   "execution_count": null,
   "metadata": {
    "collapsed": true,
    "deletable": true,
    "editable": true
   },
   "outputs": [],
   "source": []
  },
  {
   "cell_type": "code",
   "execution_count": null,
   "metadata": {
    "collapsed": true,
    "deletable": true,
    "editable": true
   },
   "outputs": [],
   "source": []
  },
  {
   "cell_type": "code",
   "execution_count": null,
   "metadata": {
    "collapsed": true,
    "deletable": true,
    "editable": true
   },
   "outputs": [],
   "source": []
  },
  {
   "cell_type": "code",
   "execution_count": null,
   "metadata": {
    "collapsed": true,
    "deletable": true,
    "editable": true
   },
   "outputs": [],
   "source": []
  },
  {
   "cell_type": "code",
   "execution_count": null,
   "metadata": {
    "collapsed": true,
    "deletable": true,
    "editable": true
   },
   "outputs": [],
   "source": []
  },
  {
   "cell_type": "code",
   "execution_count": null,
   "metadata": {
    "collapsed": true,
    "deletable": true,
    "editable": true
   },
   "outputs": [],
   "source": []
  },
  {
   "cell_type": "code",
   "execution_count": null,
   "metadata": {
    "collapsed": true,
    "deletable": true,
    "editable": true
   },
   "outputs": [],
   "source": []
  },
  {
   "cell_type": "code",
   "execution_count": null,
   "metadata": {
    "collapsed": true,
    "deletable": true,
    "editable": true
   },
   "outputs": [],
   "source": []
  },
  {
   "cell_type": "code",
   "execution_count": null,
   "metadata": {
    "collapsed": true,
    "deletable": true,
    "editable": true
   },
   "outputs": [],
   "source": []
  },
  {
   "cell_type": "code",
   "execution_count": null,
   "metadata": {
    "collapsed": true,
    "deletable": true,
    "editable": true
   },
   "outputs": [],
   "source": []
  },
  {
   "cell_type": "code",
   "execution_count": null,
   "metadata": {
    "collapsed": true,
    "deletable": true,
    "editable": true
   },
   "outputs": [],
   "source": []
  },
  {
   "cell_type": "code",
   "execution_count": null,
   "metadata": {
    "collapsed": true,
    "deletable": true,
    "editable": true
   },
   "outputs": [],
   "source": []
  },
  {
   "cell_type": "code",
   "execution_count": null,
   "metadata": {
    "collapsed": true,
    "deletable": true,
    "editable": true
   },
   "outputs": [],
   "source": []
  },
  {
   "cell_type": "code",
   "execution_count": null,
   "metadata": {
    "collapsed": true,
    "deletable": true,
    "editable": true
   },
   "outputs": [],
   "source": []
  },
  {
   "cell_type": "code",
   "execution_count": null,
   "metadata": {
    "collapsed": true,
    "deletable": true,
    "editable": true
   },
   "outputs": [],
   "source": []
  },
  {
   "cell_type": "code",
   "execution_count": null,
   "metadata": {
    "collapsed": true,
    "deletable": true,
    "editable": true
   },
   "outputs": [],
   "source": []
  },
  {
   "cell_type": "code",
   "execution_count": null,
   "metadata": {
    "collapsed": true,
    "deletable": true,
    "editable": true
   },
   "outputs": [],
   "source": []
  }
 ],
 "metadata": {
  "kernelspec": {
   "display_name": "Python 2",
   "language": "python",
   "name": "python2"
  },
  "language_info": {
   "codemirror_mode": {
    "name": "ipython",
    "version": 2
   },
   "file_extension": ".py",
   "mimetype": "text/x-python",
   "name": "python",
   "nbconvert_exporter": "python",
   "pygments_lexer": "ipython2",
   "version": "2.7.11"
  }
 },
 "nbformat": 4,
 "nbformat_minor": 2
}
